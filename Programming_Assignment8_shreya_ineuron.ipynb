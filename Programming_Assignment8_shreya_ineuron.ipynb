{
 "cells": [
  {
   "cell_type": "markdown",
   "id": "1a8ab4f8",
   "metadata": {},
   "source": [
    "**1.\tWrite a Python Program to Add Two Matrices?**"
   ]
  },
  {
   "cell_type": "code",
   "execution_count": 1,
   "id": "27718a31",
   "metadata": {},
   "outputs": [
    {
     "name": "stdout",
     "output_type": "stream",
     "text": [
      "[[ 4  6 18 20]\n",
      " [ 8 10 22 24]\n",
      " [29 52 64 76]]\n"
     ]
    }
   ],
   "source": [
    "import numpy as np\n",
    "\n",
    "a = np.matrix([[1,2,7,8],[3,4,9,10],[15,18,20,22]])\n",
    "b = np.matrix([[3,4,11,12],[5,6,13,14],[14,34,44,54]])\n",
    "\n",
    "print(a+b)"
   ]
  },
  {
   "cell_type": "markdown",
   "id": "68b37feb",
   "metadata": {},
   "source": [
    "**2.\tWrite a Python Program to Multiply Two Matrices?**"
   ]
  },
  {
   "cell_type": "code",
   "execution_count": 2,
   "id": "84479258",
   "metadata": {},
   "outputs": [
    {
     "name": "stdout",
     "output_type": "stream",
     "text": [
      "[[ 239  478  953  754]\n",
      " [ 315  622 1241  998]\n",
      " [ 767 1464 2951 2436]]\n"
     ]
    }
   ],
   "source": [
    "import numpy as np\n",
    "\n",
    "a = np.matrix([[1,2,7,8],[3,4,9,10],[15,18,20,22]])\n",
    "b = np.matrix([[3,4,11,12],[5,6,13,14],[14,34,44,54],[16,28,76,42]])\n",
    "\n",
    "print(a*b)"
   ]
  },
  {
   "cell_type": "markdown",
   "id": "36d37938",
   "metadata": {},
   "source": [
    "**3.\tWrite a Python Program to Transpose a Matrix?**"
   ]
  },
  {
   "cell_type": "code",
   "execution_count": 3,
   "id": "fffae118",
   "metadata": {},
   "outputs": [
    {
     "data": {
      "text/plain": [
       "matrix([[ 1,  3, 15],\n",
       "        [ 2,  4, 18],\n",
       "        [ 7,  9, 20],\n",
       "        [ 8, 10, 22]])"
      ]
     },
     "execution_count": 3,
     "metadata": {},
     "output_type": "execute_result"
    }
   ],
   "source": [
    "import numpy as np\n",
    "\n",
    "a = np.matrix([[1,2,7,8],[3,4,9,10],[15,18,20,22]])\n",
    "a.T"
   ]
  },
  {
   "cell_type": "markdown",
   "id": "cd34f346",
   "metadata": {},
   "source": [
    "**4.\tWrite a Python Program to Sort Words in Alphabetic Order?**"
   ]
  },
  {
   "cell_type": "code",
   "execution_count": 4,
   "id": "5772a424",
   "metadata": {},
   "outputs": [
    {
     "name": "stdout",
     "output_type": "stream",
     "text": [
      "Enter a word- python\n",
      "['h', 'n', 'o', 'p', 't', 'y']\n"
     ]
    }
   ],
   "source": [
    "w = input('Enter a word- ')\n",
    "print(sorted(w))"
   ]
  },
  {
   "cell_type": "markdown",
   "id": "63b1596a",
   "metadata": {},
   "source": [
    "**5.\tWrite a Python Program to Remove Punctuation From a String?**"
   ]
  },
  {
   "cell_type": "code",
   "execution_count": 7,
   "id": "2e2c4ca5",
   "metadata": {},
   "outputs": [
    {
     "name": "stdout",
     "output_type": "stream",
     "text": [
      "Enter a string- hello!! what@ are your plans for today???\n",
      "hello   what  are your plans for today   \n"
     ]
    }
   ],
   "source": [
    "p = ''' ! () - [] {} : ; ' \" \\ , <> . / ? @ # $ % ^ & * _ ~ '''\n",
    "s = input('Enter a string- ')\n",
    "for i in s:\n",
    "    if i in p:\n",
    "        s = s.replace(i , ' ')\n",
    "\n",
    "print(s)"
   ]
  }
 ],
 "metadata": {
  "kernelspec": {
   "display_name": "Python 3 (ipykernel)",
   "language": "python",
   "name": "python3"
  },
  "language_info": {
   "codemirror_mode": {
    "name": "ipython",
    "version": 3
   },
   "file_extension": ".py",
   "mimetype": "text/x-python",
   "name": "python",
   "nbconvert_exporter": "python",
   "pygments_lexer": "ipython3",
   "version": "3.9.7"
  }
 },
 "nbformat": 4,
 "nbformat_minor": 5
}
